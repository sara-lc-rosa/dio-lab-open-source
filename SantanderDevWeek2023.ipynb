{
  "nbformat": 4,
  "nbformat_minor": 0,
  "metadata": {
    "colab": {
      "provenance": [],
      "collapsed_sections": [
        "kNuP0SDUZMBY"
      ],
      "include_colab_link": true
    },
    "kernelspec": {
      "name": "python3",
      "display_name": "Python 3"
    },
    "language_info": {
      "name": "python"
    }
  },
  "cells": [
    {
      "cell_type": "markdown",
      "metadata": {
        "id": "view-in-github",
        "colab_type": "text"
      },
      "source": [
        "<a href=\"https://colab.research.google.com/github/sara-lc-rosa/dio-lab-open-source/blob/main/SantanderDevWeek2023.ipynb\" target=\"_parent\"><img src=\"https://colab.research.google.com/assets/colab-badge.svg\" alt=\"Open In Colab\"/></a>"
      ]
    },
    {
      "cell_type": "markdown",
      "source": [
        "# Santander Dev Week 2023 (ETL com Python)"
      ],
      "metadata": {
        "id": "BPJQsTCULaC-"
      }
    },
    {
      "cell_type": "markdown",
      "source": [
        "**Contexto:** Você é um cientista de dados no Santander e recebeu a tarefa de envolver seus clientes de maneira mais personalizada. Seu objetivo é usar o poder da IA Generativa para criar mensagens de marketing personalizadas que serão entregues a cada cliente.\n",
        "\n",
        "**Condições do Problema:**\n",
        "\n",
        "1. Você recebeu uma planilha simples, em formato CSV ('SDW2023.csv'), com uma lista de IDs de usuário do banco:\n",
        "  ```\n",
        "  UserID\n",
        "  1\n",
        "  2\n",
        "  3\n",
        "  4\n",
        "  5\n",
        "  ```\n",
        "2. Seu trabalho é consumir o endpoint `GET https://sdw-2023-prd.up.railway.app/users/{id}` (API da Santander Dev Week 2023) para obter os dados de cada cliente.\n",
        "3. Depois de obter os dados dos clientes, você vai usar a API do ChatGPT (OpenAI) para gerar uma mensagem de marketing personalizada para cada cliente. Essa mensagem deve enfatizar a importância dos investimentos.\n",
        "4. Uma vez que a mensagem para cada cliente esteja pronta, você vai enviar essas informações de volta para a API, atualizando a lista de \"news\" de cada usuário usando o endpoint `PUT https://sdw-2023-prd.up.railway.app/users/{id}`.\n",
        "\n"
      ],
      "metadata": {
        "id": "k5fA5OrXt1a3"
      }
    },
    {
      "cell_type": "code",
      "source": [
        "# Utilize sua própria URL se quiser ;)\n",
        "# Repositório da API: https://github.com/digitalinnovationone/santander-dev-week-2023-api\n",
        "sdw2023_api_url = 'https://sdw-2023-prd.up.railway.app'"
      ],
      "metadata": {
        "id": "FKqLC_CWoYqR"
      },
      "execution_count": null,
      "outputs": []
    },
    {
      "cell_type": "markdown",
      "source": [
        "## **E**xtract\n",
        "\n",
        "Extraia a lista de IDs de usuário a partir do arquivo CSV. Para cada ID, faça uma requisição GET para obter os dados do usuário correspondente."
      ],
      "metadata": {
        "id": "9dfI-o7gLRq9"
      }
    },
    {
      "cell_type": "code",
      "execution_count": 49,
      "metadata": {
        "id": "NYydpX_GLRCB",
        "outputId": "2f8b7a95-2d5c-419f-a244-f814319b19bb",
        "colab": {
          "base_uri": "https://localhost:8080/"
        }
      },
      "outputs": [
        {
          "output_type": "stream",
          "name": "stdout",
          "text": [
            "[5096, 5005, 4953, 4802, 4538]\n"
          ]
        }
      ],
      "source": [
        "import pandas as pd\n",
        "\n",
        "df = pd.read_csv('ProjetoSaraRosa.csv')\n",
        "user_ids = df['UserID'].tolist()\n",
        "print(user_ids)"
      ]
    },
    {
      "cell_type": "code",
      "source": [
        "import requests\n",
        "import json\n",
        "\n",
        "def get_user(id):\n",
        "  response = requests.get(f'{sdw2023_api_url}/users/{id}')\n",
        "  return response.json() if response.status_code == 200 else None\n",
        "\n",
        "users = [user for id in user_ids if (user := get_user(id)) is not None]\n",
        "print(json.dumps(users, indent=2))"
      ],
      "metadata": {
        "id": "F5XOuCZGSTGw",
        "colab": {
          "base_uri": "https://localhost:8080/"
        },
        "outputId": "db62a7a3-5e71-4e20-d6fc-1c8a236f4d7f"
      },
      "execution_count": 88,
      "outputs": [
        {
          "output_type": "stream",
          "name": "stdout",
          "text": [
            "[\n",
            "  {\n",
            "    \"id\": 5096,\n",
            "    \"name\": \"Yas\",\n",
            "    \"account\": {\n",
            "      \"id\": 5413,\n",
            "      \"number\": \"2199\",\n",
            "      \"agency\": \"00-7\",\n",
            "      \"balance\": 0.0,\n",
            "      \"limit\": 1000.0\n",
            "    },\n",
            "    \"card\": {\n",
            "      \"id\": 4955,\n",
            "      \"number\": \"1223 3322 5556\",\n",
            "      \"limit\": 1000.0\n",
            "    },\n",
            "    \"features\": [],\n",
            "    \"news\": []\n",
            "  },\n",
            "  {\n",
            "    \"id\": 5005,\n",
            "    \"name\": \"Pep\",\n",
            "    \"account\": {\n",
            "      \"id\": 5311,\n",
            "      \"number\": \"10607-8\",\n",
            "      \"agency\": \"8080\",\n",
            "      \"balance\": 0.0,\n",
            "      \"limit\": 500.0\n",
            "    },\n",
            "    \"card\": {\n",
            "      \"id\": 4870,\n",
            "      \"number\": \"**** **** 92** ****\",\n",
            "      \"limit\": 1000.0\n",
            "    },\n",
            "    \"features\": [],\n",
            "    \"news\": []\n",
            "  },\n",
            "  {\n",
            "    \"id\": 4953,\n",
            "    \"name\": \"KevinL\",\n",
            "    \"account\": {\n",
            "      \"id\": 5257,\n",
            "      \"number\": \"0033-1\",\n",
            "      \"agency\": \"0001\",\n",
            "      \"balance\": 0.0,\n",
            "      \"limit\": 500.0\n",
            "    },\n",
            "    \"card\": {\n",
            "      \"id\": 4816,\n",
            "      \"number\": \"**** **** **** 1244\",\n",
            "      \"limit\": 5000.0\n",
            "    },\n",
            "    \"features\": [],\n",
            "    \"news\": []\n",
            "  },\n",
            "  {\n",
            "    \"id\": 4802,\n",
            "    \"name\": \"Paulo\",\n",
            "    \"account\": {\n",
            "      \"id\": 5085,\n",
            "      \"number\": \"000001-000002\",\n",
            "      \"agency\": \"000001-7896\",\n",
            "      \"balance\": 0.0,\n",
            "      \"limit\": 500.0\n",
            "    },\n",
            "    \"card\": {\n",
            "      \"id\": 4663,\n",
            "      \"number\": \"0000 0000 0000 4570\",\n",
            "      \"limit\": 100.0\n",
            "    },\n",
            "    \"features\": [\n",
            "      {\n",
            "        \"id\": 1476,\n",
            "        \"icon\": \"string\",\n",
            "        \"description\": \"string\"\n",
            "      }\n",
            "    ],\n",
            "    \"news\": [\n",
            "      {\n",
            "        \"id\": 8874,\n",
            "        \"icon\": \"string\",\n",
            "        \"description\": \"string\"\n",
            "      }\n",
            "    ]\n",
            "  },\n",
            "  {\n",
            "    \"id\": 4538,\n",
            "    \"name\": \"Luan\",\n",
            "    \"account\": {\n",
            "      \"id\": 4812,\n",
            "      \"number\": \"a4fde-3\",\n",
            "      \"agency\": \"0124\",\n",
            "      \"balance\": 0.0,\n",
            "      \"limit\": 500.0\n",
            "    },\n",
            "    \"card\": {\n",
            "      \"id\": 4401,\n",
            "      \"number\": \"**** **** **** 4532\",\n",
            "      \"limit\": 5000.0\n",
            "    },\n",
            "    \"features\": [],\n",
            "    \"news\": [\n",
            "      {\n",
            "        \"id\": 8570,\n",
            "        \"icon\": \"https://digitalinnovationone.github.io/santander-dev-week-2023-api/icons/credit.svg\",\n",
            "        \"description\": \"Luan, invista para multiplicar suas esconomias e conquistar sua seguran\\u00e7a financeira!\"\n",
            "      }\n",
            "    ]\n",
            "  }\n",
            "]\n"
          ]
        }
      ]
    },
    {
      "cell_type": "markdown",
      "source": [
        "## **T**ransform\n",
        "\n",
        "Utilize a API do OpenAI GPT-4 para gerar uma mensagem de marketing personalizada para cada usuário."
      ],
      "metadata": {
        "id": "cWoqInB4TF1x"
      }
    },
    {
      "cell_type": "code",
      "source": [
        "import pandas as pd\n",
        "\n",
        "mensagens_df = pd.read_csv('mensagens_sem_acentos.csv')\n",
        "mensagens = mensagens_df['MessageID'].tolist()\n",
        "\n",
        "\n",
        "for i, users in enumerate(users):\n",
        "    if i < len(mensagens):\n",
        "        users[\"news\"].append({\n",
        "            \"id\": i,\n",
        "            \"icon\": \"https://digitalinnovationone.github.io/santander-dev-week-2023-api/icons/credit.svg\",\n",
        "            \"description\": mensagens[i]\n",
        "        })\n",
        "\n",
        "    print(json.dumps(users, indent=2))\n",
        "\n"
      ],
      "metadata": {
        "id": "n1w78kNxTrZY",
        "colab": {
          "base_uri": "https://localhost:8080/"
        },
        "outputId": "3265df87-1db3-462f-f54a-4fe4878231f9"
      },
      "execution_count": 89,
      "outputs": [
        {
          "output_type": "stream",
          "name": "stdout",
          "text": [
            "{\n",
            "  \"id\": 5096,\n",
            "  \"name\": \"Yas\",\n",
            "  \"account\": {\n",
            "    \"id\": 5413,\n",
            "    \"number\": \"2199\",\n",
            "    \"agency\": \"00-7\",\n",
            "    \"balance\": 0.0,\n",
            "    \"limit\": 1000.0\n",
            "  },\n",
            "  \"card\": {\n",
            "    \"id\": 4955,\n",
            "    \"number\": \"1223 3322 5556\",\n",
            "    \"limit\": 1000.0\n",
            "  },\n",
            "  \"features\": [],\n",
            "  \"news\": [\n",
            "    {\n",
            "      \"id\": 0,\n",
            "      \"icon\": \"https://digitalinnovationone.github.io/santander-dev-week-2023-api/icons/credit.svg\",\n",
            "      \"description\": \"Uma dieta equilibrada e a chave para uma vida mais saudavel. Lembre-se de incluir frutas, vegetais e proteinas magras em suas refeicoes diarias.\"\n",
            "    }\n",
            "  ]\n",
            "}\n",
            "{\n",
            "  \"id\": 5005,\n",
            "  \"name\": \"Pep\",\n",
            "  \"account\": {\n",
            "    \"id\": 5311,\n",
            "    \"number\": \"10607-8\",\n",
            "    \"agency\": \"8080\",\n",
            "    \"balance\": 0.0,\n",
            "    \"limit\": 500.0\n",
            "  },\n",
            "  \"card\": {\n",
            "    \"id\": 4870,\n",
            "    \"number\": \"**** **** 92** ****\",\n",
            "    \"limit\": 1000.0\n",
            "  },\n",
            "  \"features\": [],\n",
            "  \"news\": [\n",
            "    {\n",
            "      \"id\": 1,\n",
            "      \"icon\": \"https://digitalinnovationone.github.io/santander-dev-week-2023-api/icons/credit.svg\",\n",
            "      \"description\": \"Sua alimentacao afeta diretamente sua energia e bem-estar. Opte por alimentos naturais e evite alimentos processados e ricos em acucares.\"\n",
            "    }\n",
            "  ]\n",
            "}\n",
            "{\n",
            "  \"id\": 4953,\n",
            "  \"name\": \"KevinL\",\n",
            "  \"account\": {\n",
            "    \"id\": 5257,\n",
            "    \"number\": \"0033-1\",\n",
            "    \"agency\": \"0001\",\n",
            "    \"balance\": 0.0,\n",
            "    \"limit\": 500.0\n",
            "  },\n",
            "  \"card\": {\n",
            "    \"id\": 4816,\n",
            "    \"number\": \"**** **** **** 1244\",\n",
            "    \"limit\": 5000.0\n",
            "  },\n",
            "  \"features\": [],\n",
            "  \"news\": [\n",
            "    {\n",
            "      \"id\": 2,\n",
            "      \"icon\": \"https://digitalinnovationone.github.io/santander-dev-week-2023-api/icons/credit.svg\",\n",
            "      \"description\": \"Cuidar da sua saude comeca no prato. Faca escolhas inteligentes, como substituir lanches nao saudaveis por opcoes nutritivas, como frutas e nozes.\"\n",
            "    }\n",
            "  ]\n",
            "}\n",
            "{\n",
            "  \"id\": 4802,\n",
            "  \"name\": \"Paulo\",\n",
            "  \"account\": {\n",
            "    \"id\": 5085,\n",
            "    \"number\": \"000001-000002\",\n",
            "    \"agency\": \"000001-7896\",\n",
            "    \"balance\": 0.0,\n",
            "    \"limit\": 500.0\n",
            "  },\n",
            "  \"card\": {\n",
            "    \"id\": 4663,\n",
            "    \"number\": \"0000 0000 0000 4570\",\n",
            "    \"limit\": 100.0\n",
            "  },\n",
            "  \"features\": [\n",
            "    {\n",
            "      \"id\": 1476,\n",
            "      \"icon\": \"string\",\n",
            "      \"description\": \"string\"\n",
            "    }\n",
            "  ],\n",
            "  \"news\": [\n",
            "    {\n",
            "      \"id\": 8874,\n",
            "      \"icon\": \"string\",\n",
            "      \"description\": \"string\"\n",
            "    },\n",
            "    {\n",
            "      \"id\": 3,\n",
            "      \"icon\": \"https://digitalinnovationone.github.io/santander-dev-week-2023-api/icons/credit.svg\",\n",
            "      \"description\": \"Comer bem nao e apenas sobre o que voce come, mas tambem sobre como voce se sente. Alimentos saudaveis podem melhorar seu humor e sua disposicao.\"\n",
            "    }\n",
            "  ]\n",
            "}\n",
            "{\n",
            "  \"id\": 4538,\n",
            "  \"name\": \"Luan\",\n",
            "  \"account\": {\n",
            "    \"id\": 4812,\n",
            "    \"number\": \"a4fde-3\",\n",
            "    \"agency\": \"0124\",\n",
            "    \"balance\": 0.0,\n",
            "    \"limit\": 500.0\n",
            "  },\n",
            "  \"card\": {\n",
            "    \"id\": 4401,\n",
            "    \"number\": \"**** **** **** 4532\",\n",
            "    \"limit\": 5000.0\n",
            "  },\n",
            "  \"features\": [],\n",
            "  \"news\": [\n",
            "    {\n",
            "      \"id\": 8570,\n",
            "      \"icon\": \"https://digitalinnovationone.github.io/santander-dev-week-2023-api/icons/credit.svg\",\n",
            "      \"description\": \"Luan, invista para multiplicar suas esconomias e conquistar sua seguran\\u00e7a financeira!\"\n",
            "    },\n",
            "    {\n",
            "      \"id\": 4,\n",
            "      \"icon\": \"https://digitalinnovationone.github.io/santander-dev-week-2023-api/icons/credit.svg\",\n",
            "      \"description\": \"Pense em sua alimentacao como um investimento em sua saude a longo prazo. Escolher alimentos saudaveis hoje e garantia de um futuro mais saudavel.\"\n",
            "    }\n",
            "  ]\n",
            "}\n"
          ]
        }
      ]
    }
  ]
}